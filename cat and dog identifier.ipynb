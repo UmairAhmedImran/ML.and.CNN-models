{
 "cells": [
  {
   "cell_type": "code",
   "execution_count": 1,
   "id": "7e03dde5",
   "metadata": {},
   "outputs": [],
   "source": [
    "#importing libraries \n",
    "import os\n",
    "import time\n",
    "import random\n",
    "import pandas as pd\n",
    "import numpy as np\n",
    "import matplotlib.pyplot as plt\n",
    "import cv2\n",
    "import tensorflow as tf\n",
    "from tensorflow.keras.layers import Dense, Activation, Flatten, Conv2D, MaxPooling2D \n",
    "from tensorflow.keras.models import Sequential\n",
    "from tensorflow.keras.callbacks import TensorBoard"
   ]
  },
  {
   "cell_type": "code",
   "execution_count": 2,
   "id": "ff15b291",
   "metadata": {},
   "outputs": [],
   "source": [
    "img_size = 70\n",
    "directory = \"C:/Users/User/Downloads/archive/PetImages\"  \n",
    "categories = [\"Cat\", \"Dog\"]\n",
    "name = f\"Cat_and_Dog_128{int(time.time())}\"\n",
    "tensorboard = TensorBoard(log_dir=f\"log_files/{name}\")"
   ]
  },
  {
   "cell_type": "code",
   "execution_count": 3,
   "id": "598ab05f",
   "metadata": {},
   "outputs": [],
   "source": [
    "training_data = []\n",
    "for category in categories:\n",
    "    path = os.path.join(directory, category)\n",
    "    class_num = categories.index(category)\n",
    "        \n",
    "    for img in os.listdir(path):\n",
    "        try: \n",
    "            img_array = cv2.imread(os.path.join(path,img))\n",
    "            new_array = cv2.resize(img_array, (img_size, img_size))\n",
    "            training_data.append([new_array, class_num])\n",
    "        except Exception as e:\n",
    "            pass"
   ]
  },
  {
   "cell_type": "code",
   "execution_count": 4,
   "id": "e161fc90",
   "metadata": {},
   "outputs": [
    {
     "name": "stdout",
     "output_type": "stream",
     "text": [
      "24946\n"
     ]
    }
   ],
   "source": [
    "print(len(training_data))"
   ]
  },
  {
   "cell_type": "code",
   "execution_count": 5,
   "id": "d775a0b4",
   "metadata": {},
   "outputs": [],
   "source": [
    "random.shuffle(training_data)"
   ]
  },
  {
   "cell_type": "code",
   "execution_count": 6,
   "id": "f666c715",
   "metadata": {},
   "outputs": [],
   "source": [
    "X = []\n",
    "y = []"
   ]
  },
  {
   "cell_type": "code",
   "execution_count": 7,
   "id": "d1ab7fcf",
   "metadata": {},
   "outputs": [],
   "source": [
    "for features, label in training_data:\n",
    "    X.append(features)\n",
    "    y.append(label)\n",
    "X = np.array([i[0] for i in training_data]).reshape(-1, img_size, img_size, 3)\n",
    "X = X/255.0\n",
    "y = np.array([i[1] for i in training_data])"
   ]
  },
  {
   "cell_type": "code",
   "execution_count": 8,
   "id": "3a442256",
   "metadata": {},
   "outputs": [
    {
     "name": "stdout",
     "output_type": "stream",
     "text": [
      "Epoch 1/7\n",
      "702/702 [==============================] - 744s 1s/step - loss: 0.6883 - accuracy: 0.5374 - val_loss: 0.6775 - val_accuracy: 0.5687\n",
      "Epoch 2/7\n",
      "702/702 [==============================] - 726s 1s/step - loss: 0.6562 - accuracy: 0.6095 - val_loss: 0.6400 - val_accuracy: 0.6393\n",
      "Epoch 3/7\n",
      "702/702 [==============================] - 726s 1s/step - loss: 0.6180 - accuracy: 0.6589 - val_loss: 0.5988 - val_accuracy: 0.6946\n",
      "Epoch 4/7\n",
      "702/702 [==============================] - 717s 1s/step - loss: 0.5626 - accuracy: 0.7118 - val_loss: 0.5462 - val_accuracy: 0.7279\n",
      "Epoch 5/7\n",
      "702/702 [==============================] - 657s 935ms/step - loss: 0.5195 - accuracy: 0.7434 - val_loss: 0.5087 - val_accuracy: 0.7563\n",
      "Epoch 6/7\n",
      "702/702 [==============================] - 597s 850ms/step - loss: 0.4760 - accuracy: 0.7730 - val_loss: 0.5178 - val_accuracy: 0.7415\n",
      "Epoch 7/7\n",
      "702/702 [==============================] - 545s 776ms/step - loss: 0.4370 - accuracy: 0.7943 - val_loss: 0.4823 - val_accuracy: 0.7647\n"
     ]
    },
    {
     "data": {
      "text/plain": [
       "<keras.callbacks.History at 0x24375c18c40>"
      ]
     },
     "execution_count": 8,
     "metadata": {},
     "output_type": "execute_result"
    }
   ],
   "source": [
    "model = Sequential()\n",
    "model.add(Conv2D(128, (4,4), input_shape = X.shape[1:], activation=\"relu\"))\n",
    "model.add(MaxPooling2D(pool_size=(2,2)))\n",
    "\n",
    "model.add(Conv2D(128, (4,4), activation=\"relu\"))\n",
    "model.add(MaxPooling2D(pool_size=(2,2)))\n",
    "\n",
    "model.add(Conv2D(128, (4,4), activation=\"relu\"))\n",
    "model.add(MaxPooling2D(pool_size=(2,2)))\n",
    "\n",
    "model.add(Flatten())\n",
    "\n",
    "model.add(Dense(128))\n",
    "model.add(Activation(\"relu\"))\n",
    "\n",
    "model.add(Dense(1))\n",
    "model.add(Activation(\"sigmoid\"))\n",
    "\n",
    "model.compile(loss=\"binary_crossentropy\",\n",
    "             optimizer = \"adam\",\n",
    "             metrics = [\"accuracy\"])\n",
    "\n",
    "model.fit(X, y, batch_size=32, epochs= 7, validation_split=0.1 , callbacks=[tensorboard])"
   ]
  },
  {
   "cell_type": "code",
   "execution_count": null,
   "id": "ec7023c7",
   "metadata": {},
   "outputs": [],
   "source": []
  }
 ],
 "metadata": {
  "kernelspec": {
   "display_name": "Python 3 (ipykernel)",
   "language": "python",
   "name": "python3"
  },
  "language_info": {
   "codemirror_mode": {
    "name": "ipython",
    "version": 3
   },
   "file_extension": ".py",
   "mimetype": "text/x-python",
   "name": "python",
   "nbconvert_exporter": "python",
   "pygments_lexer": "ipython3",
   "version": "3.9.13"
  }
 },
 "nbformat": 4,
 "nbformat_minor": 5
}
