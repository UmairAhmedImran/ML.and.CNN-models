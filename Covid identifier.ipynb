{
 "cells": [
  {
   "cell_type": "markdown",
   "id": "79a290cf",
   "metadata": {},
   "source": [
    "### Importing Libraries "
   ]
  },
  {
   "cell_type": "code",
   "execution_count": 2,
   "id": "7e03dde5",
   "metadata": {},
   "outputs": [],
   "source": [
    "import numpy as np \n",
    "import pandas as pd\n",
    "import tensorflow as tf\n",
    "from tensorflow.keras import layers\n",
    "from tensorflow.keras.layers.experimental import preprocessing\n",
    "from tensorflow.keras.applications.vgg19 import VGG19\n",
    "from tensorflow.keras.applications.vgg19 import preprocess_input\n",
    "from tensorflow.keras.preprocessing.image import ImageDataGenerator\n",
    "from tensorflow.keras.models import Model\n",
    "import os\n",
    "import cv2\n",
    "import matplotlib.pyplot as plt\n",
    "import PIL.Image as img\n",
    "from tensorflow.keras.preprocessing import image\n",
    "from tensorflow.keras.callbacks import EarlyStopping"
   ]
  },
  {
   "cell_type": "code",
   "execution_count": 4,
   "id": "ff15b291",
   "metadata": {},
   "outputs": [],
   "source": [
    "train_dir = './Downloads/Covid_19/Covid19-dataset/train'\n",
    "test_dir = './Downloads/Covid_19/Covid19-dataset/test'"
   ]
  },
  {
   "cell_type": "code",
   "execution_count": 5,
   "id": "598ab05f",
   "metadata": {},
   "outputs": [],
   "source": [
    "x_train = []\n",
    "for folder in os.listdir(train_dir):\n",
    "    sub_path = train_dir + '/' + folder\n",
    "    for image in os.listdir(sub_path):\n",
    "        img_path = sub_path + '/' + image\n",
    "        img = cv2.imread(img_path)\n",
    "        img = cv2.resize(img, (224,244))\n",
    "        x_train.append(img)"
   ]
  },
  {
   "cell_type": "code",
   "execution_count": 6,
   "id": "e161fc90",
   "metadata": {},
   "outputs": [],
   "source": [
    "x_test = []\n",
    "for folder in os.listdir(test_dir):\n",
    "    sub_test = test_dir + '/' + folder\n",
    "    for image in os.listdir(sub_test):\n",
    "        img_test = sub_test + '/' + image\n",
    "        imgtest = cv2.imread(img_test)\n",
    "        imgtest = cv2.resize(imgtest,(224,224))\n",
    "        x_test.append(imgtest)"
   ]
  },
  {
   "cell_type": "code",
   "execution_count": 7,
   "id": "d775a0b4",
   "metadata": {},
   "outputs": [],
   "source": [
    "train = np.array(x_train)/255.0\n",
    "test = np.array(x_test)/255.0"
   ]
  },
  {
   "cell_type": "code",
   "execution_count": 8,
   "id": "f666c715",
   "metadata": {},
   "outputs": [],
   "source": [
    "train_data = ImageDataGenerator(rescale = 1/255.0 , validation_split=0.2)\n",
    "test_data = ImageDataGenerator(rescale = 1/255.0)"
   ]
  },
  {
   "cell_type": "code",
   "execution_count": 9,
   "id": "d1ab7fcf",
   "metadata": {},
   "outputs": [
    {
     "name": "stdout",
     "output_type": "stream",
     "text": [
      "Found 201 images belonging to 3 classes.\n",
      "Found 50 images belonging to 3 classes.\n",
      "Found 66 images belonging to 3 classes.\n"
     ]
    }
   ],
   "source": [
    "train_set = train_data.flow_from_directory(\n",
    "                    train_dir,\n",
    "                    subset = 'training',\n",
    "                    batch_size=32,\n",
    "                    target_size=(224,224),\n",
    "                    class_mode = 'sparse'\n",
    ")\n",
    "val_set = train_data.flow_from_directory(\n",
    "                    train_dir,\n",
    "                    subset = 'validation',\n",
    "                    batch_size=32,\n",
    "                    target_size=(224,224),\n",
    "                    class_mode = 'sparse'\n",
    ")\n",
    "test_set = test_data.flow_from_directory(\n",
    "                    test_dir,\n",
    "                    batch_size=32,\n",
    "                    target_size=(224,224),\n",
    "                    class_mode = 'sparse'\n",
    ")"
   ]
  },
  {
   "cell_type": "code",
   "execution_count": 10,
   "id": "ec7023c7",
   "metadata": {},
   "outputs": [
    {
     "name": "stdout",
     "output_type": "stream",
     "text": [
      "{'Covid': 0, 'Normal': 1, 'Viral Pneumonia': 2}\n"
     ]
    }
   ],
   "source": [
    "y_train = train_set.classes \n",
    "y_val = val_set.classes\n",
    "y_test = test_set.classes \n",
    "print(train_set.class_indices)"
   ]
  },
  {
   "cell_type": "code",
   "execution_count": null,
   "id": "74c6614d",
   "metadata": {},
   "outputs": [],
   "source": [
    "plt.figure(figsize=(16,16))\n",
    "for i in range(8):\n",
    "    plt.subplot(2,4,i+1)\n",
    "    plt.imshow(train[i])\n",
    "    plt.title(y_train[i])"
   ]
  },
  {
   "cell_type": "code",
   "execution_count": 3,
   "id": "1ed160e6",
   "metadata": {},
   "outputs": [],
   "source": [
    "vgg = VGG19(include_top = False , input_shape = (224,224,3),weights='imagenet')\n",
    "for layer in vgg.layers :\n",
    "    layer.trainable = False"
   ]
  },
  {
   "cell_type": "code",
   "execution_count": 11,
   "id": "d5dd90af",
   "metadata": {},
   "outputs": [],
   "source": [
    "ES = tf.keras.callbacks.EarlyStopping(\n",
    "    patience = 5,\n",
    "    min_delta = 0.001,\n",
    "    verbose = 0\n",
    ")\n",
    "model = tf.keras.Sequential([\n",
    "    layers.RandomFlip(mode='horizontal'),\n",
    "    layers.RandomRotation(factor=0.2),\n",
    "    vgg,\n",
    "    layers.Flatten(),\n",
    "    layers.Dense(3, activation='softmax')\n",
    "])\n",
    "model.compile(\n",
    "    optimizer='adam',\n",
    "    loss = 'sparse_categorical_crossentropy',\n",
    "    metrics = ['accuracy']\n",
    ")"
   ]
  },
  {
   "cell_type": "code",
   "execution_count": null,
   "id": "5efea00c",
   "metadata": {},
   "outputs": [
    {
     "name": "stderr",
     "output_type": "stream",
     "text": [
      "C:\\Users\\User\\AppData\\Local\\Temp\\ipykernel_16640\\887904915.py:1: UserWarning: `Model.fit_generator` is deprecated and will be removed in a future version. Please use `Model.fit`, which supports generators.\n",
      "  training = model.fit_generator(\n"
     ]
    },
    {
     "name": "stdout",
     "output_type": "stream",
     "text": [
      "Epoch 1/30\n",
      "7/7 [==============================] - 201s 29s/step - loss: 1.5072 - accuracy: 0.6169 - val_loss: 0.9107 - val_accuracy: 0.5400\n",
      "Epoch 2/30\n",
      "7/7 [==============================] - 165s 24s/step - loss: 0.6419 - accuracy: 0.7164 - val_loss: 0.7860 - val_accuracy: 0.6800\n",
      "Epoch 3/30\n",
      "7/7 [==============================] - 177s 25s/step - loss: 0.4641 - accuracy: 0.8060 - val_loss: 0.5229 - val_accuracy: 0.7800\n",
      "Epoch 4/30\n",
      "7/7 [==============================] - 165s 24s/step - loss: 0.3369 - accuracy: 0.8557 - val_loss: 0.6410 - val_accuracy: 0.7800\n",
      "Epoch 5/30\n",
      "7/7 [==============================] - 146s 21s/step - loss: 0.3215 - accuracy: 0.8756 - val_loss: 0.5623 - val_accuracy: 0.7000\n",
      "Epoch 6/30\n",
      "7/7 [==============================] - 148s 21s/step - loss: 0.2847 - accuracy: 0.8657 - val_loss: 0.4942 - val_accuracy: 0.7800\n",
      "Epoch 7/30\n",
      "7/7 [==============================] - 146s 21s/step - loss: 0.2011 - accuracy: 0.9453 - val_loss: 0.2894 - val_accuracy: 0.8600\n",
      "Epoch 8/30\n",
      "7/7 [==============================] - 139s 20s/step - loss: 0.1453 - accuracy: 0.9502 - val_loss: 0.3273 - val_accuracy: 0.8600\n",
      "Epoch 9/30\n",
      "7/7 [==============================] - 155s 22s/step - loss: 0.1601 - accuracy: 0.9502 - val_loss: 0.2845 - val_accuracy: 0.9200\n",
      "Epoch 10/30\n",
      "7/7 [==============================] - 153s 25s/step - loss: 0.1363 - accuracy: 0.9552 - val_loss: 0.2344 - val_accuracy: 0.9200\n",
      "Epoch 11/30\n",
      "7/7 [==============================] - 188s 30s/step - loss: 0.1104 - accuracy: 0.9652 - val_loss: 0.2019 - val_accuracy: 0.9400\n",
      "Epoch 12/30\n",
      "7/7 [==============================] - 167s 25s/step - loss: 0.1357 - accuracy: 0.9453 - val_loss: 0.2515 - val_accuracy: 0.9400\n",
      "Epoch 13/30\n",
      "7/7 [==============================] - 128s 19s/step - loss: 0.1413 - accuracy: 0.9502 - val_loss: 0.6604 - val_accuracy: 0.7400\n",
      "Epoch 14/30\n",
      "7/7 [==============================] - 157s 23s/step - loss: 0.3068 - accuracy: 0.8905 - val_loss: 0.2264 - val_accuracy: 0.9200\n",
      "Epoch 15/30\n"
     ]
    }
   ],
   "source": [
    "training = model.fit_generator(\n",
    "    train_set,\n",
    "    callbacks=[ES],\n",
    "    steps_per_epoch = 7 ,\n",
    "    epochs = 30,\n",
    "    validation_data = val_set\n",
    ")"
   ]
  },
  {
   "cell_type": "code",
   "execution_count": null,
   "id": "61bfe36b",
   "metadata": {},
   "outputs": [],
   "source": [
    "\n",
    "plt.plot(training.history['loss'], label='train loss')\n",
    "plt.plot(training.history['val_loss'], label='val loss')\n",
    "plt.legend()\n",
    "plt.show()\n",
    "plt.plot(training.history['accuracy'], label='train acc')\n",
    "plt.plot(training.history['val_accuracy'], label='val acc')\n",
    "plt.legend()\n",
    "plt.show()"
   ]
  },
  {
   "cell_type": "code",
   "execution_count": null,
   "id": "c2fc64b8",
   "metadata": {},
   "outputs": [],
   "source": [
    "history_df = pd.DataFrame(training.history)\n",
    "history_df.loc[:, ['loss', 'val_loss']].plot();"
   ]
  },
  {
   "cell_type": "code",
   "execution_count": null,
   "id": "5d523a0f",
   "metadata": {},
   "outputs": [],
   "source": [
    "pred = model.predict(test_set)\n",
    "final_pred = np.argmax(pred, axis =1)"
   ]
  }
 ],
 "metadata": {
  "kernelspec": {
   "display_name": "Python 3 (ipykernel)",
   "language": "python",
   "name": "python3"
  },
  "language_info": {
   "codemirror_mode": {
    "name": "ipython",
    "version": 3
   },
   "file_extension": ".py",
   "mimetype": "text/x-python",
   "name": "python",
   "nbconvert_exporter": "python",
   "pygments_lexer": "ipython3",
   "version": "3.9.13"
  }
 },
 "nbformat": 4,
 "nbformat_minor": 5
}
